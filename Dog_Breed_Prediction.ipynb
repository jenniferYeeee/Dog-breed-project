{
  "cells": [
    {
      "cell_type": "markdown",
      "metadata": {
        "id": "m9-4mDYw-kxC"
      },
      "source": [
        "Brief description:\\\n",
        "This dataset in Kaggle contains images of dogs. They have been curated so that there are 5 folders, each\n",
        "containing images of the following breeds:\n",
        "1. French Bulldog\n",
        "2. German Shephard\n",
        "3. Golden Retriever\n",
        "4. Poodle\n",
        "5. Yorkshire Terrier\n",
        "For each breed, there are many sample images of each dog breed, in different colors and settings. There\n",
        "are more than 180 images of each breed. The project can go in two directions – (1) can the images be\n",
        "clustered into 5 classes? (2) can the breed be identified from the image?\n",
        "\n",
        "Data source:\\\n",
        "https://www.kaggle.com/datasets/yapwh1208/dogs-breed-dataset\n"
      ]
    },
    {
      "cell_type": "markdown",
      "metadata": {
        "id": "snLWuWP9HQvK"
      },
      "source": [
        "google doc outline:https://docs.google.com/document/d/14CnTYuUJSBCtoq3yBoQ-P5mkL7D8lbqJUeKyNqVOtcs/edit"
      ]
    },
    {
      "cell_type": "markdown",
      "metadata": {
        "id": "IQZkbIcs_kur"
      },
      "source": [
        "outline:\n",
        "\n"
      ]
    },
    {
      "cell_type": "code",
      "execution_count": null,
      "metadata": {
        "colab": {
          "base_uri": "https://localhost:8080/"
        },
        "id": "QUQbIS42I_9R",
        "outputId": "6ebbb94d-af10-4ac7-d3a3-34cf0a4ad320"
      },
      "outputs": [
        {
          "output_type": "stream",
          "name": "stdout",
          "text": [
            "Mounted at /content/drive\n"
          ]
        }
      ],
      "source": [
        "import numpy as np\n",
        "import pandas as pd\n",
        "import matplotlib.pyplot as plt\n",
        "import PIL\n",
        "import glob\n",
        "from google.colab import drive\n",
        "drive.mount(\"/content/drive\")\n",
        "import cv2 as cv\n",
        "from sklearn.model_selection import train_test_split\n",
        "from sklearn.preprocessing import LabelEncoder"
      ]
    },
    {
      "cell_type": "code",
      "source": [
        "breed_names = [\"french_bulldog\", \"poodle\", \"german_shepherd\", \"golden_retriever\", \"yorkshire_terrier\"]"
      ],
      "metadata": {
        "id": "eG4hzWyBbO6z"
      },
      "execution_count": null,
      "outputs": []
    },
    {
      "cell_type": "code",
      "execution_count": null,
      "metadata": {
        "id": "Bx-Fpt3Q-gUD"
      },
      "outputs": [],
      "source": [
        "from google.colab.patches import cv2_imshow\n",
        "breed_names = [\"french_bulldog\", \"poodle\", \"german_shepherd\", \"golden_retriever\", \"yorkshire_terrier\"]\n",
        "filenames_french = glob.glob(\"/content/drive/MyDrive/Dog Breed Project/french_bulldog/*.*\")\n",
        "image_array = np.empty((0,3))\n",
        "target_array = np.empty((0,1))\n",
        "dogs = {\"image\": [], \"target\": []}\n",
        "for filename in filenames_french:\n",
        "  og_image = PIL.Image.open(filename)\n",
        "  resized_image = og_image.resize((400,400))\n",
        "  image = np.array(resized_image)\n",
        "  dogs[\"image\"].append(image)\n",
        "  dogs[\"target\"].append(\"french_bulldog\")"
      ]
    },
    {
      "cell_type": "code",
      "source": [
        "for filename in filenames_french:\n",
        "        og_image = PIL.Image.open(filename)\n",
        "        resized_image = og_image.resize((400, 400))\n",
        "        image = np.array(resized_image)\n",
        "        dogs[\"image\"].append(image)\n",
        "        dogs[\"target\"].append(\"french_bulldog\")\n",
        "\n",
        "# Convert the target labels to numerical encoding\n",
        "label_encoder = LabelEncoder()\n",
        "dogs[\"target\"] = label_encoder.fit_transform(dogs[\"target\"])\n",
        "\n",
        "# Stack the image arrays along a new axis\n",
        "image_array = np.stack(dogs[\"image\"], axis=0)\n",
        "\n",
        "# Convert the target array to a NumPy array\n",
        "target_array = np.array(dogs[\"target\"])\n",
        "\n",
        "# Print the shapes of the resulting arrays\n",
        "print(\"Image array shape:\", image_array.shape)\n",
        "print(\"Target array shape:\", target_array.shape)"
      ],
      "metadata": {
        "colab": {
          "base_uri": "https://localhost:8080/",
          "height": 391
        },
        "id": "-SEg5Cs9Zwve",
        "outputId": "fd59c783-7c1e-4248-ad5f-c1ad8c48da60"
      },
      "execution_count": null,
      "outputs": [
        {
          "output_type": "error",
          "ename": "ValueError",
          "evalue": "ignored",
          "traceback": [
            "\u001b[0;31m---------------------------------------------------------------------------\u001b[0m",
            "\u001b[0;31mValueError\u001b[0m                                Traceback (most recent call last)",
            "\u001b[0;32m<ipython-input-4-dac636ceca11>\u001b[0m in \u001b[0;36m<cell line: 13>\u001b[0;34m()\u001b[0m\n\u001b[1;32m     11\u001b[0m \u001b[0;34m\u001b[0m\u001b[0m\n\u001b[1;32m     12\u001b[0m \u001b[0;31m# Stack the image arrays along a new axis\u001b[0m\u001b[0;34m\u001b[0m\u001b[0;34m\u001b[0m\u001b[0m\n\u001b[0;32m---> 13\u001b[0;31m \u001b[0mimage_array\u001b[0m \u001b[0;34m=\u001b[0m \u001b[0mnp\u001b[0m\u001b[0;34m.\u001b[0m\u001b[0mstack\u001b[0m\u001b[0;34m(\u001b[0m\u001b[0mdogs\u001b[0m\u001b[0;34m[\u001b[0m\u001b[0;34m\"image\"\u001b[0m\u001b[0;34m]\u001b[0m\u001b[0;34m,\u001b[0m \u001b[0maxis\u001b[0m\u001b[0;34m=\u001b[0m\u001b[0;36m0\u001b[0m\u001b[0;34m)\u001b[0m\u001b[0;34m\u001b[0m\u001b[0;34m\u001b[0m\u001b[0m\n\u001b[0m\u001b[1;32m     14\u001b[0m \u001b[0;34m\u001b[0m\u001b[0m\n\u001b[1;32m     15\u001b[0m \u001b[0;31m# Convert the target array to a NumPy array\u001b[0m\u001b[0;34m\u001b[0m\u001b[0;34m\u001b[0m\u001b[0m\n",
            "\u001b[0;32m/usr/local/lib/python3.10/dist-packages/numpy/core/overrides.py\u001b[0m in \u001b[0;36mstack\u001b[0;34m(*args, **kwargs)\u001b[0m\n",
            "\u001b[0;32m/usr/local/lib/python3.10/dist-packages/numpy/core/shape_base.py\u001b[0m in \u001b[0;36mstack\u001b[0;34m(arrays, axis, out)\u001b[0m\n\u001b[1;32m    424\u001b[0m     \u001b[0mshapes\u001b[0m \u001b[0;34m=\u001b[0m \u001b[0;34m{\u001b[0m\u001b[0marr\u001b[0m\u001b[0;34m.\u001b[0m\u001b[0mshape\u001b[0m \u001b[0;32mfor\u001b[0m \u001b[0marr\u001b[0m \u001b[0;32min\u001b[0m \u001b[0marrays\u001b[0m\u001b[0;34m}\u001b[0m\u001b[0;34m\u001b[0m\u001b[0;34m\u001b[0m\u001b[0m\n\u001b[1;32m    425\u001b[0m     \u001b[0;32mif\u001b[0m \u001b[0mlen\u001b[0m\u001b[0;34m(\u001b[0m\u001b[0mshapes\u001b[0m\u001b[0;34m)\u001b[0m \u001b[0;34m!=\u001b[0m \u001b[0;36m1\u001b[0m\u001b[0;34m:\u001b[0m\u001b[0;34m\u001b[0m\u001b[0;34m\u001b[0m\u001b[0m\n\u001b[0;32m--> 426\u001b[0;31m         \u001b[0;32mraise\u001b[0m \u001b[0mValueError\u001b[0m\u001b[0;34m(\u001b[0m\u001b[0;34m'all input arrays must have the same shape'\u001b[0m\u001b[0;34m)\u001b[0m\u001b[0;34m\u001b[0m\u001b[0;34m\u001b[0m\u001b[0m\n\u001b[0m\u001b[1;32m    427\u001b[0m \u001b[0;34m\u001b[0m\u001b[0m\n\u001b[1;32m    428\u001b[0m     \u001b[0mresult_ndim\u001b[0m \u001b[0;34m=\u001b[0m \u001b[0marrays\u001b[0m\u001b[0;34m[\u001b[0m\u001b[0;36m0\u001b[0m\u001b[0;34m]\u001b[0m\u001b[0;34m.\u001b[0m\u001b[0mndim\u001b[0m \u001b[0;34m+\u001b[0m \u001b[0;36m1\u001b[0m\u001b[0;34m\u001b[0m\u001b[0;34m\u001b[0m\u001b[0m\n",
            "\u001b[0;31mValueError\u001b[0m: all input arrays must have the same shape"
          ]
        }
      ]
    },
    {
      "cell_type": "code",
      "execution_count": null,
      "metadata": {
        "id": "hVDQv4IQ_n8M"
      },
      "outputs": [],
      "source": [
        "filenames_poodle = glob.glob(\"/content/drive/MyDrive/Dog Breed Project/poodle/*.*\")\n",
        "for filename in filenames_poodle:\n",
        "  og_image = PIL.Image.open(filename)\n",
        "  resized_image = og_image.resize((400,400))\n",
        "  image = np.array(resized_image)\n",
        "  dogs[\"image\"].append(image)\n",
        "  dogs[\"target\"].append(\"french_bulldog\")"
      ]
    },
    {
      "cell_type": "code",
      "execution_count": null,
      "metadata": {
        "id": "hRFuaM3oq_DN"
      },
      "outputs": [],
      "source": [
        "filenames_german = glob.glob(\"/content/drive/MyDrive/Dog Breed Project/german_shepherd/*.*\")\n",
        "for filename in filenames_german:\n",
        "  og_image = PIL.Image.open(filename)\n",
        "  resized_image = og_image.resize((400,400))\n",
        "  image = np.array(resized_image)\n",
        "  dogs[\"image\"].append(image)\n",
        "  dogs[\"target\"].append(\"french_bulldog\")"
      ]
    },
    {
      "cell_type": "code",
      "execution_count": null,
      "metadata": {
        "id": "2QYNOtyv_sh5"
      },
      "outputs": [],
      "source": [
        "filenames_golden = glob.glob(\"/content/drive/MyDrive/Dog Breed Project/golden_retriever/*.*\")\n",
        "for filename in filenames_golden:\n",
        "  og_image = PIL.Image.open(filename)\n",
        "  resized_image = og_image.resize((400,400))\n",
        "  image = np.array(resized_image)\n",
        "  dogs[\"image\"].append(image)\n",
        "  dogs[\"target\"].append(\"french_bulldog\")"
      ]
    },
    {
      "cell_type": "code",
      "execution_count": null,
      "metadata": {
        "id": "wtWEeCwSrBXC"
      },
      "outputs": [],
      "source": [
        "filenames_yorkshire = glob.glob(\"/content/drive/MyDrive/Dog Breed Project/yorkshire_terrier/*.*\")\n",
        "for filename in filenames_yorkshire:\n",
        "  og_image = PIL.Image.open(filename)\n",
        "  resized_image = og_image.resize((400,400))\n",
        "  image = np.array(resized_image)\n",
        "  dogs[\"image\"].append(image)\n",
        "  dogs[\"target\"].append(\"french_bulldog\")"
      ]
    },
    {
      "cell_type": "code",
      "execution_count": null,
      "metadata": {
        "id": "4YpBGCDmHWxR"
      },
      "outputs": [],
      "source": [
        "print(dogs[\"image\"][0].shape)\n",
        "X = dogs['image']\n",
        "y = dogs[\"target\"]\n",
        "y = np.array(y)\n",
        "X_train, X_test, y_train, y_test = train_test_split(X, y, test_size=0.25, random_state=42, stratify=y)\n",
        "import torch\n",
        "from torch import nn\n",
        "import torch.nn.functional as F\n"
      ]
    },
    {
      "cell_type": "code",
      "execution_count": null,
      "metadata": {
        "id": "_9bvUnooIDaj"
      },
      "outputs": [],
      "source": [
        " ## What is this, and where is this from?\n",
        " ## Maybe we should start commenting, so we understand the code, when we come back to it\n",
        "device = 'cuda' if torch.cuda.is_available() else 'cpu'"
      ]
    },
    {
      "cell_type": "code",
      "execution_count": null,
      "metadata": {
        "id": "q1pTzImCKYpk"
      },
      "outputs": [],
      "source": [
        "mnist_dim = X.shape[1]\n",
        "hidden_dim = 100\n",
        "output_dim = y.shape[1]\n",
        "from skorch import NeuralNetClassifier\n",
        "torch.manual_seed(0)\n",
        "net = NeuralNetClassifier(\n",
        "    ClassifierModule,\n",
        "    max_epochs=20,\n",
        "    lr=0.1,\n",
        "    device=device,\n",
        ")\n",
        "net.fit(X_train,y_train)"
      ]
    },
    {
      "cell_type": "code",
      "execution_count": null,
      "metadata": {
        "id": "mS48Sy5VKa3L"
      },
      "outputs": [],
      "source": [
        "#dogs_df"
      ]
    }
  ],
  "metadata": {
    "colab": {
      "provenance": []
    },
    "kernelspec": {
      "display_name": "Python 3",
      "name": "python3"
    },
    "language_info": {
      "name": "python"
    }
  },
  "nbformat": 4,
  "nbformat_minor": 0
}